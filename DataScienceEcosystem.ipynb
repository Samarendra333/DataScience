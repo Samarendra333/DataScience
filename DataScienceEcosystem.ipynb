{
 "cells": [
  {
   "cell_type": "markdown",
   "id": "507039a7",
   "metadata": {},
   "source": [
    "# Data Science Tools and Ecosystem"
   ]
  },
  {
   "cell_type": "markdown",
   "id": "6cdf7d10",
   "metadata": {},
   "source": [
    "In this notebook, Data Science Tools and Ecosystem are summarised:"
   ]
  },
  {
   "cell_type": "markdown",
   "id": "c964ac31",
   "metadata": {},
   "source": [
    "**Objectives:- **\n",
    "    *List of popular Languages used by Data Scientists\n",
    "    *List of popular Libraries used by Data Scientists\n",
    "    *Tools used by Data Scientists\n",
    "    *Simple Arithmatic Expressions for multiplcation and addition\n",
    "    *Simple expression that convert 200 minutes to hours\n",
    "    "
   ]
  },
  {
   "cell_type": "markdown",
   "id": "313f35c1",
   "metadata": {},
   "source": [
    "## Author\n",
    "Samarendra Singh"
   ]
  },
  {
   "cell_type": "markdown",
   "id": "17010178",
   "metadata": {},
   "source": [
    "Some of the popular languages that Data Scientists use are:-\n",
    "1. R\n",
    "1. Python\n",
    "1. Java\n",
    "1. C++\n",
    "1. Julia"
   ]
  },
  {
   "cell_type": "markdown",
   "id": "d6ae0edf",
   "metadata": {},
   "source": [
    "Some of the commonly used libraries used by Data Scientists are:-\n",
    "\n",
    "1. Pandas\n",
    "1. TensorFlow\n",
    "1. Sciekit-Learn\n",
    "1. SciPy\n",
    "1. NumPy"
   ]
  },
  {
   "cell_type": "markdown",
   "id": "fe864d8d",
   "metadata": {},
   "source": [
    "|Data Science Tools|\n",
    "|------------------|\n",
    "|IBM Watson Studio|\n",
    "|Jupyter|\n",
    "|TensorFlow|\n",
    "|RStudio|"
   ]
  },
  {
   "cell_type": "markdown",
   "id": "ec3e0c22",
   "metadata": {},
   "source": [
    "###  Below are a few examples of evaluating arithmetic expressions in Python"
   ]
  },
  {
   "cell_type": "code",
   "execution_count": 3,
   "id": "36524245",
   "metadata": {},
   "outputs": [
    {
     "data": {
      "text/plain": [
       "35"
      ]
     },
     "execution_count": 3,
     "metadata": {},
     "output_type": "execute_result"
    }
   ],
   "source": [
    "(3+4)*5\n",
    "\n",
    "#This is a simple arithmatic expression to multiply then add integers."
   ]
  },
  {
   "cell_type": "code",
   "execution_count": 2,
   "id": "92ee73aa",
   "metadata": {},
   "outputs": [
    {
     "data": {
      "text/plain": [
       "3.3333333333333335"
      ]
     },
     "execution_count": 2,
     "metadata": {},
     "output_type": "execute_result"
    }
   ],
   "source": [
    "200/60\n",
    "#This will convert 200 minutes to hours by diving by 60"
   ]
  },
  {
   "cell_type": "code",
   "execution_count": null,
   "id": "d6a11d15",
   "metadata": {},
   "outputs": [],
   "source": []
  }
 ],
 "metadata": {
  "kernelspec": {
   "display_name": "Python 3 (ipykernel)",
   "language": "python",
   "name": "python3"
  },
  "language_info": {
   "codemirror_mode": {
    "name": "ipython",
    "version": 3
   },
   "file_extension": ".py",
   "mimetype": "text/x-python",
   "name": "python",
   "nbconvert_exporter": "python",
   "pygments_lexer": "ipython3",
   "version": "3.10.11"
  }
 },
 "nbformat": 4,
 "nbformat_minor": 5
}
